{
 "cells": [
  {
   "cell_type": "code",
   "execution_count": 1,
   "id": "6323b4c4",
   "metadata": {},
   "outputs": [],
   "source": [
    "import os\n",
    "os.getcwd()\n",
    "\n",
    "import numpy as np\n",
    "import pandas as pd\n",
    "import matplotlib.pyplot as plt\n",
    "import scanpy as sc\n",
    "import anndata as ad\n",
    "sc.settings.verbosity = 0"
   ]
  },
  {
   "cell_type": "code",
   "execution_count": 2,
   "id": "ffae2228",
   "metadata": {},
   "outputs": [
    {
     "name": "stderr",
     "output_type": "stream",
     "text": [
      "/home/g0bi/miniforge3/envs/ogenki/lib/python3.11/site-packages/anndata/utils.py:429: FutureWarning: Importing read_csv from `anndata` is deprecated. Import anndata.io.read_csv instead.\n",
      "  warnings.warn(msg, FutureWarning)\n",
      "/home/g0bi/miniforge3/envs/ogenki/lib/python3.11/site-packages/anndata/utils.py:429: FutureWarning: Importing read_excel from `anndata` is deprecated. Import anndata.io.read_excel instead.\n",
      "  warnings.warn(msg, FutureWarning)\n",
      "/home/g0bi/miniforge3/envs/ogenki/lib/python3.11/site-packages/anndata/utils.py:429: FutureWarning: Importing read_hdf from `anndata` is deprecated. Import anndata.io.read_hdf instead.\n",
      "  warnings.warn(msg, FutureWarning)\n",
      "/home/g0bi/miniforge3/envs/ogenki/lib/python3.11/site-packages/anndata/utils.py:429: FutureWarning: Importing read_loom from `anndata` is deprecated. Import anndata.io.read_loom instead.\n",
      "  warnings.warn(msg, FutureWarning)\n",
      "/home/g0bi/miniforge3/envs/ogenki/lib/python3.11/site-packages/anndata/utils.py:429: FutureWarning: Importing read_mtx from `anndata` is deprecated. Import anndata.io.read_mtx instead.\n",
      "  warnings.warn(msg, FutureWarning)\n",
      "/home/g0bi/miniforge3/envs/ogenki/lib/python3.11/site-packages/anndata/utils.py:429: FutureWarning: Importing read_text from `anndata` is deprecated. Import anndata.io.read_text instead.\n",
      "  warnings.warn(msg, FutureWarning)\n"
     ]
    }
   ],
   "source": [
    "import GenKI as gk\n",
    "from GenKI.preprocesing import build_adata\n",
    "from GenKI.dataLoader import DataLoader\n",
    "from GenKI.train import VGAE_trainer\n",
    "from GenKI import utils\n",
    "\n",
    "%load_ext autoreload\n",
    "%autoreload 2"
   ]
  },
  {
   "cell_type": "code",
   "execution_count": 3,
   "id": "2b15fb16",
   "metadata": {},
   "outputs": [
    {
     "name": "stdout",
     "output_type": "stream",
     "text": [
      "load counts from ../data/adata.h5ad\n"
     ]
    },
    {
     "data": {
      "text/plain": [
       "AnnData object with n_obs × n_vars = 2313 × 5499\n",
       "    obs: 'VSN_cell_type', 'VSN_leiden_res0.3', 'VSN_leiden_res0.6', 'VSN_leiden_res0.9', 'VSN_leiden_res1.2', 'VSN_sample_id', 'Seurat_leiden_res0.6', 'Seurat_leiden_res1.2', 'Seurat_cell_type', 'n_genes_by_counts', 'total_counts', 'total_counts_mt', 'pct_counts_mt'\n",
       "    var: 'gene_ids', 'feature_types', 'mt', 'n_cells_by_counts', 'mean_counts', 'pct_dropout_by_counts', 'total_counts', 'highly_variable', 'means', 'dispersions', 'dispersions_norm', 'mean', 'std'\n",
       "    uns: 'Seurat_cell_type_colors', 'hvg', 'log1p', 'neighbors', 'pca', 'umap'\n",
       "    obsm: 'X_pca', 'X_umap'\n",
       "    varm: 'PCs'\n",
       "    layers: 'norm'\n",
       "    obsp: 'connectivities', 'distances'"
      ]
     },
     "execution_count": 3,
     "metadata": {},
     "output_type": "execute_result"
    }
   ],
   "source": [
    "# subset data\n",
    "adata = build_adata(\"../data/adata.h5ad\")\n",
    "#adata = adata[:120, :300].copy()\n",
    "adata = adata[:1200, :3000].copy()\n",
    "adata"
   ]
  },
  {
   "cell_type": "code",
   "execution_count": 4,
   "id": "4b1f898d-1660-4a46-bdc0-f5b3e731515d",
   "metadata": {},
   "outputs": [
    {
     "data": {
      "text/html": [
       "<div>\n",
       "<style scoped>\n",
       "    .dataframe tbody tr th:only-of-type {\n",
       "        vertical-align: middle;\n",
       "    }\n",
       "\n",
       "    .dataframe tbody tr th {\n",
       "        vertical-align: top;\n",
       "    }\n",
       "\n",
       "    .dataframe thead th {\n",
       "        text-align: right;\n",
       "    }\n",
       "</style>\n",
       "<table border=\"1\" class=\"dataframe\">\n",
       "  <thead>\n",
       "    <tr style=\"text-align: right;\">\n",
       "      <th></th>\n",
       "      <th>VSN_cell_type</th>\n",
       "      <th>VSN_leiden_res0.3</th>\n",
       "      <th>VSN_leiden_res0.6</th>\n",
       "      <th>VSN_leiden_res0.9</th>\n",
       "      <th>VSN_leiden_res1.2</th>\n",
       "      <th>VSN_sample_id</th>\n",
       "      <th>Seurat_leiden_res0.6</th>\n",
       "      <th>Seurat_leiden_res1.2</th>\n",
       "      <th>Seurat_cell_type</th>\n",
       "      <th>n_genes_by_counts</th>\n",
       "      <th>total_counts</th>\n",
       "      <th>total_counts_mt</th>\n",
       "      <th>pct_counts_mt</th>\n",
       "    </tr>\n",
       "  </thead>\n",
       "  <tbody>\n",
       "    <tr>\n",
       "      <th>CTTTGGGAGTCAATTG-1</th>\n",
       "      <td>MOL_A</td>\n",
       "      <td>MOL_A (1)</td>\n",
       "      <td>MOL_A_2 (1)</td>\n",
       "      <td>MOL_A_1  (0)</td>\n",
       "      <td>MOL_A_2 (0)</td>\n",
       "      <td>10x_multiome_brain</td>\n",
       "      <td>MOL (0)</td>\n",
       "      <td>MOL (0)</td>\n",
       "      <td>MOL</td>\n",
       "      <td>1926</td>\n",
       "      <td>4351.0</td>\n",
       "      <td>5.0</td>\n",
       "      <td>0.114916</td>\n",
       "    </tr>\n",
       "    <tr>\n",
       "      <th>TCAGGAGCATAGACCC-1</th>\n",
       "      <td>MOL_A</td>\n",
       "      <td>MOL_A (1)</td>\n",
       "      <td>MOL_A_2 (1)</td>\n",
       "      <td>MOL_A_1  (0)</td>\n",
       "      <td>MOL_A_2 (0)</td>\n",
       "      <td>10x_multiome_brain</td>\n",
       "      <td>NFOL (1)</td>\n",
       "      <td>MOL (1)</td>\n",
       "      <td>MOL</td>\n",
       "      <td>2607</td>\n",
       "      <td>6673.0</td>\n",
       "      <td>8.0</td>\n",
       "      <td>0.119886</td>\n",
       "    </tr>\n",
       "    <tr>\n",
       "      <th>TATAGGTGTTTGGCGG-1</th>\n",
       "      <td>MOL_A</td>\n",
       "      <td>MOL_A (1)</td>\n",
       "      <td>MOL_A_2 (1)</td>\n",
       "      <td>MOL_A_1  (0)</td>\n",
       "      <td>MOL_A_2 (0)</td>\n",
       "      <td>10x_multiome_brain</td>\n",
       "      <td>MOL (0)</td>\n",
       "      <td>MOL (1)</td>\n",
       "      <td>MOL</td>\n",
       "      <td>2095</td>\n",
       "      <td>4979.0</td>\n",
       "      <td>2.0</td>\n",
       "      <td>0.040169</td>\n",
       "    </tr>\n",
       "    <tr>\n",
       "      <th>TAGTCAATCGTACCGA-1</th>\n",
       "      <td>MOL_B</td>\n",
       "      <td>MOL_B (0)</td>\n",
       "      <td>MOL_B_1 (0)</td>\n",
       "      <td>MOL_B_1  (1)</td>\n",
       "      <td>MOL_B_4 (4)</td>\n",
       "      <td>10x_multiome_brain</td>\n",
       "      <td>NFOL (1)</td>\n",
       "      <td>NFOL (3)</td>\n",
       "      <td>NFOL</td>\n",
       "      <td>2829</td>\n",
       "      <td>10526.0</td>\n",
       "      <td>2.0</td>\n",
       "      <td>0.019001</td>\n",
       "    </tr>\n",
       "    <tr>\n",
       "      <th>AGCTACTAGGAGGTTA-1</th>\n",
       "      <td>GC</td>\n",
       "      <td>GC (4)</td>\n",
       "      <td>GC (5)</td>\n",
       "      <td>GC (6)</td>\n",
       "      <td>GC (8)</td>\n",
       "      <td>10x_multiome_brain</td>\n",
       "      <td>GC (4)</td>\n",
       "      <td>GC (5)</td>\n",
       "      <td>GC</td>\n",
       "      <td>4132</td>\n",
       "      <td>10621.0</td>\n",
       "      <td>11.0</td>\n",
       "      <td>0.103568</td>\n",
       "    </tr>\n",
       "    <tr>\n",
       "      <th>...</th>\n",
       "      <td>...</td>\n",
       "      <td>...</td>\n",
       "      <td>...</td>\n",
       "      <td>...</td>\n",
       "      <td>...</td>\n",
       "      <td>...</td>\n",
       "      <td>...</td>\n",
       "      <td>...</td>\n",
       "      <td>...</td>\n",
       "      <td>...</td>\n",
       "      <td>...</td>\n",
       "      <td>...</td>\n",
       "      <td>...</td>\n",
       "    </tr>\n",
       "    <tr>\n",
       "      <th>TTGTCAAAGGGACGCA-1</th>\n",
       "      <td>AST_CER</td>\n",
       "      <td>AST_CER (2)</td>\n",
       "      <td>AST_CER (2)</td>\n",
       "      <td>AST_CER (2)</td>\n",
       "      <td>AST_CER_2 (5)</td>\n",
       "      <td>10x_multiome_brain</td>\n",
       "      <td>BG (2)</td>\n",
       "      <td>BG (2)</td>\n",
       "      <td>BG</td>\n",
       "      <td>2457</td>\n",
       "      <td>4817.0</td>\n",
       "      <td>1.0</td>\n",
       "      <td>0.020760</td>\n",
       "    </tr>\n",
       "    <tr>\n",
       "      <th>TTTGGCTGTTACAACG-1</th>\n",
       "      <td>MOL_A</td>\n",
       "      <td>MOL_A (1)</td>\n",
       "      <td>MOL_A_2 (1)</td>\n",
       "      <td>MOL_A_1  (0)</td>\n",
       "      <td>MOL_A_2 (0)</td>\n",
       "      <td>10x_multiome_brain</td>\n",
       "      <td>MOL (0)</td>\n",
       "      <td>MOL (0)</td>\n",
       "      <td>MOL</td>\n",
       "      <td>2072</td>\n",
       "      <td>5152.0</td>\n",
       "      <td>4.0</td>\n",
       "      <td>0.077640</td>\n",
       "    </tr>\n",
       "    <tr>\n",
       "      <th>TTTAGCAAGGTTAGAG-1</th>\n",
       "      <td>AST_CER</td>\n",
       "      <td>AST_CER (2)</td>\n",
       "      <td>AST_CER (2)</td>\n",
       "      <td>AST_CER (2)</td>\n",
       "      <td>AST_CER_1 (7)</td>\n",
       "      <td>10x_multiome_brain</td>\n",
       "      <td>BG (2)</td>\n",
       "      <td>BG (2)</td>\n",
       "      <td>BG</td>\n",
       "      <td>2116</td>\n",
       "      <td>3767.0</td>\n",
       "      <td>7.0</td>\n",
       "      <td>0.185824</td>\n",
       "    </tr>\n",
       "    <tr>\n",
       "      <th>TCATGTTTCACAGCGC-1</th>\n",
       "      <td>MOL_B</td>\n",
       "      <td>MOL_B (0)</td>\n",
       "      <td>MOL_B_1 (0)</td>\n",
       "      <td>MOL_B_1  (1)</td>\n",
       "      <td>MOL_B_1 (1)</td>\n",
       "      <td>10x_multiome_brain</td>\n",
       "      <td>MOL (0)</td>\n",
       "      <td>MOL (1)</td>\n",
       "      <td>MOL</td>\n",
       "      <td>2953</td>\n",
       "      <td>12020.0</td>\n",
       "      <td>7.0</td>\n",
       "      <td>0.058236</td>\n",
       "    </tr>\n",
       "    <tr>\n",
       "      <th>CAAGAACCATTGTCAG-1</th>\n",
       "      <td>OPC</td>\n",
       "      <td>OPC (3)</td>\n",
       "      <td>OPC (4)</td>\n",
       "      <td>OPC (4)</td>\n",
       "      <td>OPC (3)</td>\n",
       "      <td>10x_multiome_brain</td>\n",
       "      <td>OPC (3)</td>\n",
       "      <td>OPC (4)</td>\n",
       "      <td>OPC</td>\n",
       "      <td>4166</td>\n",
       "      <td>13214.0</td>\n",
       "      <td>8.0</td>\n",
       "      <td>0.060542</td>\n",
       "    </tr>\n",
       "  </tbody>\n",
       "</table>\n",
       "<p>2313 rows × 13 columns</p>\n",
       "</div>"
      ],
      "text/plain": [
       "                   VSN_cell_type VSN_leiden_res0.3 VSN_leiden_res0.6  \\\n",
       "CTTTGGGAGTCAATTG-1         MOL_A         MOL_A (1)       MOL_A_2 (1)   \n",
       "TCAGGAGCATAGACCC-1         MOL_A         MOL_A (1)       MOL_A_2 (1)   \n",
       "TATAGGTGTTTGGCGG-1         MOL_A         MOL_A (1)       MOL_A_2 (1)   \n",
       "TAGTCAATCGTACCGA-1         MOL_B         MOL_B (0)       MOL_B_1 (0)   \n",
       "AGCTACTAGGAGGTTA-1            GC            GC (4)            GC (5)   \n",
       "...                          ...               ...               ...   \n",
       "TTGTCAAAGGGACGCA-1       AST_CER       AST_CER (2)       AST_CER (2)   \n",
       "TTTGGCTGTTACAACG-1         MOL_A         MOL_A (1)       MOL_A_2 (1)   \n",
       "TTTAGCAAGGTTAGAG-1       AST_CER       AST_CER (2)       AST_CER (2)   \n",
       "TCATGTTTCACAGCGC-1         MOL_B         MOL_B (0)       MOL_B_1 (0)   \n",
       "CAAGAACCATTGTCAG-1           OPC           OPC (3)           OPC (4)   \n",
       "\n",
       "                   VSN_leiden_res0.9 VSN_leiden_res1.2       VSN_sample_id  \\\n",
       "CTTTGGGAGTCAATTG-1      MOL_A_1  (0)       MOL_A_2 (0)  10x_multiome_brain   \n",
       "TCAGGAGCATAGACCC-1      MOL_A_1  (0)       MOL_A_2 (0)  10x_multiome_brain   \n",
       "TATAGGTGTTTGGCGG-1      MOL_A_1  (0)       MOL_A_2 (0)  10x_multiome_brain   \n",
       "TAGTCAATCGTACCGA-1      MOL_B_1  (1)       MOL_B_4 (4)  10x_multiome_brain   \n",
       "AGCTACTAGGAGGTTA-1            GC (6)            GC (8)  10x_multiome_brain   \n",
       "...                              ...               ...                 ...   \n",
       "TTGTCAAAGGGACGCA-1       AST_CER (2)     AST_CER_2 (5)  10x_multiome_brain   \n",
       "TTTGGCTGTTACAACG-1      MOL_A_1  (0)       MOL_A_2 (0)  10x_multiome_brain   \n",
       "TTTAGCAAGGTTAGAG-1       AST_CER (2)     AST_CER_1 (7)  10x_multiome_brain   \n",
       "TCATGTTTCACAGCGC-1      MOL_B_1  (1)       MOL_B_1 (1)  10x_multiome_brain   \n",
       "CAAGAACCATTGTCAG-1           OPC (4)           OPC (3)  10x_multiome_brain   \n",
       "\n",
       "                   Seurat_leiden_res0.6 Seurat_leiden_res1.2 Seurat_cell_type  \\\n",
       "CTTTGGGAGTCAATTG-1              MOL (0)              MOL (0)              MOL   \n",
       "TCAGGAGCATAGACCC-1             NFOL (1)              MOL (1)              MOL   \n",
       "TATAGGTGTTTGGCGG-1              MOL (0)              MOL (1)              MOL   \n",
       "TAGTCAATCGTACCGA-1             NFOL (1)             NFOL (3)             NFOL   \n",
       "AGCTACTAGGAGGTTA-1               GC (4)               GC (5)               GC   \n",
       "...                                 ...                  ...              ...   \n",
       "TTGTCAAAGGGACGCA-1               BG (2)               BG (2)               BG   \n",
       "TTTGGCTGTTACAACG-1              MOL (0)              MOL (0)              MOL   \n",
       "TTTAGCAAGGTTAGAG-1               BG (2)               BG (2)               BG   \n",
       "TCATGTTTCACAGCGC-1              MOL (0)              MOL (1)              MOL   \n",
       "CAAGAACCATTGTCAG-1              OPC (3)              OPC (4)              OPC   \n",
       "\n",
       "                    n_genes_by_counts  total_counts  total_counts_mt  \\\n",
       "CTTTGGGAGTCAATTG-1               1926        4351.0              5.0   \n",
       "TCAGGAGCATAGACCC-1               2607        6673.0              8.0   \n",
       "TATAGGTGTTTGGCGG-1               2095        4979.0              2.0   \n",
       "TAGTCAATCGTACCGA-1               2829       10526.0              2.0   \n",
       "AGCTACTAGGAGGTTA-1               4132       10621.0             11.0   \n",
       "...                               ...           ...              ...   \n",
       "TTGTCAAAGGGACGCA-1               2457        4817.0              1.0   \n",
       "TTTGGCTGTTACAACG-1               2072        5152.0              4.0   \n",
       "TTTAGCAAGGTTAGAG-1               2116        3767.0              7.0   \n",
       "TCATGTTTCACAGCGC-1               2953       12020.0              7.0   \n",
       "CAAGAACCATTGTCAG-1               4166       13214.0              8.0   \n",
       "\n",
       "                    pct_counts_mt  \n",
       "CTTTGGGAGTCAATTG-1       0.114916  \n",
       "TCAGGAGCATAGACCC-1       0.119886  \n",
       "TATAGGTGTTTGGCGG-1       0.040169  \n",
       "TAGTCAATCGTACCGA-1       0.019001  \n",
       "AGCTACTAGGAGGTTA-1       0.103568  \n",
       "...                           ...  \n",
       "TTGTCAAAGGGACGCA-1       0.020760  \n",
       "TTTGGCTGTTACAACG-1       0.077640  \n",
       "TTTAGCAAGGTTAGAG-1       0.185824  \n",
       "TCATGTTTCACAGCGC-1       0.058236  \n",
       "CAAGAACCATTGTCAG-1       0.060542  \n",
       "\n",
       "[2313 rows x 13 columns]"
      ]
     },
     "execution_count": 4,
     "metadata": {},
     "output_type": "execute_result"
    }
   ],
   "source": [
    "adata.obs"
   ]
  },
  {
   "cell_type": "code",
   "execution_count": 5,
   "id": "535f1a09-3d35-412d-894a-a64dfdce2b5b",
   "metadata": {},
   "outputs": [
    {
     "data": {
      "text/plain": [
       "Index(['LINC01409', 'HES4', 'ISG15', 'C1ORF159', 'AL645728.1', 'CDK11B', 'SKI',\n",
       "       'PLCH2', 'HES5', 'AL139246.5',\n",
       "       ...\n",
       "       'MT-CO1', 'MT-CO2', 'MT-ATP8', 'MT-ATP6', 'MT-CO3', 'MT-ND3', 'MT-ND4L',\n",
       "       'MT-ND6', 'AC007325.4', 'AC007325.2'],\n",
       "      dtype='object', length=5499)"
      ]
     },
     "execution_count": 5,
     "metadata": {},
     "output_type": "execute_result"
    }
   ],
   "source": [
    "adata.var\n",
    "adata.var_names"
   ]
  },
  {
   "cell_type": "code",
   "execution_count": 6,
   "id": "52d200e1-3a05-489d-a773-40c9a410422f",
   "metadata": {},
   "outputs": [
    {
     "name": "stdout",
     "output_type": "stream",
     "text": [
      "SIRT1 not found in the dataset\n",
      "UQCRC2 not found in the dataset\n",
      "FBXO42 not found in the dataset\n",
      "SIAH1 not found in the dataset\n",
      "DNAJA2 not found in the dataset\n",
      "PRIM2 not found in the dataset\n",
      "CHMP5 not found in the dataset\n",
      "SNRPD2 not found in the dataset\n",
      "PRKCE not found in the dataset\n",
      "KITLG found in the dataset\n",
      "PDE6D not found in the dataset\n",
      "SNRPB not found in the dataset\n",
      "HAGH not found in the dataset\n",
      "YWHAZ not found in the dataset\n",
      "SNCA found in the dataset\n",
      "TH not found in the dataset\n",
      "NR4A2 found in the dataset\n",
      "PUM2 not found in the dataset\n",
      "KIT found in the dataset\n",
      "PPP1CA not found in the dataset\n",
      "CCT5 found in the dataset\n",
      "KAT5 not found in the dataset\n",
      "CRK not found in the dataset\n",
      "LYN found in the dataset\n",
      "DNAJA1 found in the dataset\n",
      "TREH not found in the dataset\n",
      "DYNC1H1 not found in the dataset\n"
     ]
    },
    {
     "data": {
      "text/plain": [
       "['KITLG', 'SNCA', 'NR4A2', 'KIT', 'CCT5', 'LYN', 'DNAJA1']"
      ]
     },
     "execution_count": 6,
     "metadata": {},
     "output_type": "execute_result"
    }
   ],
   "source": [
    "# marker genes\n",
    "marker_genes =  [\"SIAH1\", \"PRIM2\", \"DYNC1H1\", \"SIRT1\", \"PPP1CA\", \"PDE6D\", \"YWHAZ\", \"FBXO42\", \"CHMP5\", \n",
    "    \"SNRPB\", \"CRK\", \"TREH\",  \"UQCRC2\", \"PUM2\", \"SNRPD2\", \"CCT5\", \"KAT5\", \"LYN\", \n",
    "    \"PRKCE\", \"HAGH\", \"DNAJA1\", \"DNAJA2\", \"SNCA\", \"TH\", \"KIT\", \"KITLG\", \"NR4A2\"]\n",
    "\n",
    "marker_genes = set(marker_genes)\n",
    "marker_genes_found=[]\n",
    "\n",
    "for i in marker_genes:\n",
    "    if i in adata.var_names:\n",
    "        marker_genes_found.append(i)\n",
    "        print(i+\" found in the dataset\")\n",
    "    else:\n",
    "        print(i+\" not found in the dataset\")\n",
    "marker_genes_found"
   ]
  },
  {
   "cell_type": "code",
   "execution_count": null,
   "id": "1e37d540",
   "metadata": {
    "scrolled": true
   },
   "outputs": [
    {
     "name": "stdout",
     "output_type": "stream",
     "text": [
      "use all the cells (2313) in adata\n",
      "build GRN\n"
     ]
    },
    {
     "name": "stderr",
     "output_type": "stream",
     "text": [
      "2025-04-21 18:51:37,281\tINFO worker.py:1841 -- Started a local Ray instance.\n"
     ]
    },
    {
     "name": "stdout",
     "output_type": "stream",
     "text": [
      "ray init, using 8 CPUs\n"
     ]
    }
   ],
   "source": [
    "# load data\n",
    "data_wrapper =  DataLoader(\n",
    "                adata, # adata object\n",
    "                target_gene = [\"HES4\"], # KO gene name\n",
    "                target_cell = None, # obsname for cell type, if none use all\n",
    "                obs_label = \"gene_ids\", # colname for genes\n",
    "                GRN_file_dir = \"GRNs\", # folder name for GRNs\n",
    "                rebuild_GRN = True, # whether build GRN by pcNet\n",
    "                pcNet_name = \"pcNet_scenic\", # GRN file name\n",
    "                verbose = True, # whether verbose\n",
    "                n_cpus = 8, # multiprocessing\n",
    "                )\n",
    "\n",
    "data_wt = data_wrapper.load_data()\n",
    "data_ko = data_wrapper.load_kodata()"
   ]
  },
  {
   "cell_type": "code",
   "execution_count": null,
   "id": "7862c768",
   "metadata": {},
   "outputs": [],
   "source": [
    "# init trainer\n",
    "hyperparams = {\"epochs\": 100, \n",
    "               \"lr\": 7e-4, \n",
    "               \"beta\": 1e-4, \n",
    "               \"seed\": 8096}\n",
    "log_dir=None \n",
    "\n",
    "sensei = VGAE_trainer(data_wt, \n",
    "                     epochs=hyperparams[\"epochs\"], \n",
    "                     lr=hyperparams[\"lr\"], \n",
    "                     log_dir=log_dir, \n",
    "                     beta=hyperparams[\"beta\"],\n",
    "                     seed=hyperparams[\"seed\"],\n",
    "                     verbose=False,\n",
    "                     )"
   ]
  },
  {
   "cell_type": "code",
   "execution_count": null,
   "id": "31bfb6a0",
   "metadata": {
    "scrolled": true
   },
   "outputs": [],
   "source": [
    "# %%timeit\n",
    "sensei.train()"
   ]
  },
  {
   "cell_type": "code",
   "execution_count": null,
   "id": "e16a285e",
   "metadata": {},
   "outputs": [],
   "source": [
    "sensei.save_model('adata-save')"
   ]
  },
  {
   "cell_type": "code",
   "execution_count": null,
   "id": "e055e8f3",
   "metadata": {
    "scrolled": true
   },
   "outputs": [],
   "source": [
    "# get distance between wt and ko\n",
    "z_mu_wt, z_std_wt = sensei.get_latent_vars(data_wt)\n",
    "z_mu_ko, z_std_ko = sensei.get_latent_vars(data_ko)\n",
    "dis = gk.utils.get_distance(z_mu_ko, z_std_ko, z_mu_wt, z_std_wt, by=\"KL\")\n",
    "print(dis.shape)"
   ]
  },
  {
   "cell_type": "code",
   "execution_count": null,
   "id": "78e852b7",
   "metadata": {},
   "outputs": [],
   "source": [
    "# raw ranked gene list\n",
    "res_raw = utils.get_generank(data_wt, dis, rank=True)\n",
    "res_raw.head()"
   ]
  },
  {
   "cell_type": "code",
   "execution_count": null,
   "id": "9ddf3b86",
   "metadata": {},
   "outputs": [],
   "source": [
    "# if permutation test\n",
    "null = sensei.pmt(data_ko, n=100, by=\"KL\")\n",
    "res = utils.get_generank(data_wt, dis, null,)\n",
    "\n",
    "# save_significant_as = 'gene_list_example')\n",
    "res"
   ]
  }
 ],
 "metadata": {
  "kernelspec": {
   "display_name": "Python 3 (ipykernel)",
   "language": "python",
   "name": "python3"
  },
  "language_info": {
   "codemirror_mode": {
    "name": "ipython",
    "version": 3
   },
   "file_extension": ".py",
   "mimetype": "text/x-python",
   "name": "python",
   "nbconvert_exporter": "python",
   "pygments_lexer": "ipython3",
   "version": "3.11.11"
  }
 },
 "nbformat": 4,
 "nbformat_minor": 5
}
